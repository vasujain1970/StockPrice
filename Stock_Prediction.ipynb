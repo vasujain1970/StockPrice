{
  "nbformat": 4,
  "nbformat_minor": 0,
  "metadata": {
    "colab": {
      "name": "Stock_Prediction.ipynb",
      "provenance": [],
      "mount_file_id": "1vW5ZtNGUju6KLAuEfoxVxud16jkE9OEl",
      "authorship_tag": "ABX9TyPi/GVjlbNTNZ4FBz1LSP/B",
      "include_colab_link": true
    },
    "kernelspec": {
      "name": "python3",
      "display_name": "Python 3"
    },
    "language_info": {
      "name": "python"
    }
  },
  "cells": [
    {
      "cell_type": "markdown",
      "metadata": {
        "id": "view-in-github",
        "colab_type": "text"
      },
      "source": [
        "<a href=\"https://colab.research.google.com/github/vasujain1970/StockPrice/blob/main/Stock_Prediction.ipynb\" target=\"_parent\"><img src=\"https://colab.research.google.com/assets/colab-badge.svg\" alt=\"Open In Colab\"/></a>"
      ]
    },
    {
      "cell_type": "code",
      "metadata": {
        "id": "N8MliPLNTxXS"
      },
      "source": [
        "import pandas_datareader as pdr\n",
        "key=\"7196e5f1e544b035d71c2f818bd81ce11b655d5e\"\n",
        "df = pdr.get_data_tiingo('MSFT', api_key=key)"
      ],
      "execution_count": 100,
      "outputs": []
    },
    {
      "cell_type": "code",
      "metadata": {
        "id": "JpUTyhT3UeY-",
        "outputId": "c7319df8-672a-445a-bef2-bbe70f53ffd1",
        "colab": {
          "base_uri": "https://localhost:8080/",
          "height": 340
        }
      },
      "source": [
        "df.head()"
      ],
      "execution_count": 101,
      "outputs": [
        {
          "output_type": "execute_result",
          "data": {
            "text/html": [
              "<div>\n",
              "<style scoped>\n",
              "    .dataframe tbody tr th:only-of-type {\n",
              "        vertical-align: middle;\n",
              "    }\n",
              "\n",
              "    .dataframe tbody tr th {\n",
              "        vertical-align: top;\n",
              "    }\n",
              "\n",
              "    .dataframe thead th {\n",
              "        text-align: right;\n",
              "    }\n",
              "</style>\n",
              "<table border=\"1\" class=\"dataframe\">\n",
              "  <thead>\n",
              "    <tr style=\"text-align: right;\">\n",
              "      <th></th>\n",
              "      <th></th>\n",
              "      <th>close</th>\n",
              "      <th>high</th>\n",
              "      <th>low</th>\n",
              "      <th>open</th>\n",
              "      <th>volume</th>\n",
              "      <th>adjClose</th>\n",
              "      <th>adjHigh</th>\n",
              "      <th>adjLow</th>\n",
              "      <th>adjOpen</th>\n",
              "      <th>adjVolume</th>\n",
              "      <th>divCash</th>\n",
              "      <th>splitFactor</th>\n",
              "    </tr>\n",
              "    <tr>\n",
              "      <th>symbol</th>\n",
              "      <th>date</th>\n",
              "      <th></th>\n",
              "      <th></th>\n",
              "      <th></th>\n",
              "      <th></th>\n",
              "      <th></th>\n",
              "      <th></th>\n",
              "      <th></th>\n",
              "      <th></th>\n",
              "      <th></th>\n",
              "      <th></th>\n",
              "      <th></th>\n",
              "      <th></th>\n",
              "    </tr>\n",
              "  </thead>\n",
              "  <tbody>\n",
              "    <tr>\n",
              "      <th rowspan=\"5\" valign=\"top\">MSFT</th>\n",
              "      <th>2016-08-08 00:00:00+00:00</th>\n",
              "      <td>58.06</td>\n",
              "      <td>58.085</td>\n",
              "      <td>57.78</td>\n",
              "      <td>58.055</td>\n",
              "      <td>19473499</td>\n",
              "      <td>53.493254</td>\n",
              "      <td>53.516287</td>\n",
              "      <td>53.235277</td>\n",
              "      <td>53.488647</td>\n",
              "      <td>19473499</td>\n",
              "      <td>0.0</td>\n",
              "      <td>1.0</td>\n",
              "    </tr>\n",
              "    <tr>\n",
              "      <th>2016-08-09 00:00:00+00:00</th>\n",
              "      <td>58.20</td>\n",
              "      <td>58.500</td>\n",
              "      <td>58.02</td>\n",
              "      <td>58.170</td>\n",
              "      <td>16920721</td>\n",
              "      <td>53.622242</td>\n",
              "      <td>53.898645</td>\n",
              "      <td>53.456400</td>\n",
              "      <td>53.594601</td>\n",
              "      <td>16920721</td>\n",
              "      <td>0.0</td>\n",
              "      <td>1.0</td>\n",
              "    </tr>\n",
              "    <tr>\n",
              "      <th>2016-08-10 00:00:00+00:00</th>\n",
              "      <td>58.02</td>\n",
              "      <td>58.320</td>\n",
              "      <td>57.82</td>\n",
              "      <td>58.160</td>\n",
              "      <td>15756913</td>\n",
              "      <td>53.456400</td>\n",
              "      <td>53.732803</td>\n",
              "      <td>53.272131</td>\n",
              "      <td>53.585388</td>\n",
              "      <td>15756913</td>\n",
              "      <td>0.0</td>\n",
              "      <td>1.0</td>\n",
              "    </tr>\n",
              "    <tr>\n",
              "      <th>2016-08-11 00:00:00+00:00</th>\n",
              "      <td>58.30</td>\n",
              "      <td>58.450</td>\n",
              "      <td>58.03</td>\n",
              "      <td>58.030</td>\n",
              "      <td>18162301</td>\n",
              "      <td>53.714376</td>\n",
              "      <td>53.852578</td>\n",
              "      <td>53.465613</td>\n",
              "      <td>53.465613</td>\n",
              "      <td>18162301</td>\n",
              "      <td>0.0</td>\n",
              "      <td>1.0</td>\n",
              "    </tr>\n",
              "    <tr>\n",
              "      <th>2016-08-12 00:00:00+00:00</th>\n",
              "      <td>57.94</td>\n",
              "      <td>58.190</td>\n",
              "      <td>57.62</td>\n",
              "      <td>58.030</td>\n",
              "      <td>21655161</td>\n",
              "      <td>53.382692</td>\n",
              "      <td>53.613028</td>\n",
              "      <td>53.087862</td>\n",
              "      <td>53.465613</td>\n",
              "      <td>21655161</td>\n",
              "      <td>0.0</td>\n",
              "      <td>1.0</td>\n",
              "    </tr>\n",
              "  </tbody>\n",
              "</table>\n",
              "</div>"
            ],
            "text/plain": [
              "                                  close    high  ...  divCash  splitFactor\n",
              "symbol date                                      ...                      \n",
              "MSFT   2016-08-08 00:00:00+00:00  58.06  58.085  ...      0.0          1.0\n",
              "       2016-08-09 00:00:00+00:00  58.20  58.500  ...      0.0          1.0\n",
              "       2016-08-10 00:00:00+00:00  58.02  58.320  ...      0.0          1.0\n",
              "       2016-08-11 00:00:00+00:00  58.30  58.450  ...      0.0          1.0\n",
              "       2016-08-12 00:00:00+00:00  57.94  58.190  ...      0.0          1.0\n",
              "\n",
              "[5 rows x 12 columns]"
            ]
          },
          "metadata": {
            "tags": []
          },
          "execution_count": 101
        }
      ]
    },
    {
      "cell_type": "code",
      "metadata": {
        "id": "yeWs0-h2VoSt",
        "outputId": "164b8e39-ed89-4fd6-e1dc-a9373f694694",
        "colab": {
          "base_uri": "https://localhost:8080/"
        }
      },
      "source": [
        "from matplotlib import pyplot as plt\n",
        "df.shape"
      ],
      "execution_count": 102,
      "outputs": [
        {
          "output_type": "execute_result",
          "data": {
            "text/plain": [
              "(1257, 12)"
            ]
          },
          "metadata": {
            "tags": []
          },
          "execution_count": 102
        }
      ]
    },
    {
      "cell_type": "code",
      "metadata": {
        "id": "cA565n2rVvA_",
        "outputId": "8f2a66eb-7a55-4f64-b452-ee7c21d6b13d",
        "colab": {
          "base_uri": "https://localhost:8080/"
        }
      },
      "source": [
        "df1 = df.reset_index()['close']\n",
        "df1"
      ],
      "execution_count": 103,
      "outputs": [
        {
          "output_type": "execute_result",
          "data": {
            "text/plain": [
              "0        58.06\n",
              "1        58.20\n",
              "2        58.02\n",
              "3        58.30\n",
              "4        57.94\n",
              "         ...  \n",
              "1252    286.50\n",
              "1253    284.91\n",
              "1254    284.82\n",
              "1255    287.12\n",
              "1256    286.51\n",
              "Name: close, Length: 1257, dtype: float64"
            ]
          },
          "metadata": {
            "tags": []
          },
          "execution_count": 103
        }
      ]
    },
    {
      "cell_type": "code",
      "metadata": {
        "id": "sHm8PzXoWOt0",
        "outputId": "9da1837a-e86c-49d6-aa5a-725d35de7b82",
        "colab": {
          "base_uri": "https://localhost:8080/",
          "height": 285
        }
      },
      "source": [
        "plt.plot(df1)"
      ],
      "execution_count": 104,
      "outputs": [
        {
          "output_type": "execute_result",
          "data": {
            "text/plain": [
              "[<matplotlib.lines.Line2D at 0x7fa2b801c150>]"
            ]
          },
          "metadata": {
            "tags": []
          },
          "execution_count": 104
        },
        {
          "output_type": "display_data",
          "data": {
            "image/png": "[encoded data removed]",
            "text/plain": [
              "<Figure size 432x288 with 1 Axes>"
            ]
          },
          "metadata": {
            "tags": [],
            "needs_background": "light"
          }
        }
      ]
    },
    {
      "cell_type": "code",
      "metadata": {
        "id": "IU7H7zz7WcUT"
      },
      "source": [
        "#LSTM is scale sensitive. Use minmax scaler to scale all the data between 0 and 1"
      ],
      "execution_count": 105,
      "outputs": []
    },
    {
      "cell_type": "code",
      "metadata": {
        "id": "FPEXd1hZWvd-"
      },
      "source": [
        "from sklearn.preprocessing import MinMaxScaler\n",
        "import numpy as np"
      ],
      "execution_count": 106,
      "outputs": []
    },
    {
      "cell_type": "code",
      "metadata": {
        "id": "bi4s89DcWx8g"
      },
      "source": [
        "scaler = MinMaxScaler(feature_range=(0,1))\n",
        "df1 = scaler.fit_transform(np.array(df1).reshape(-1, 1))"
      ],
      "execution_count": 107,
      "outputs": []
    },
    {
      "cell_type": "code",
      "metadata": {
        "id": "2RdqPOjbXArX"
      },
      "source": [
        "#Create training and testing split, cannot be random as data is time sensitive\n",
        "training_size=int(len(df1)*0.65)\n",
        "test_size=len(df1)-training_size\n",
        "train_data,test_data=df1[0:training_size,:],df1[training_size:len(df1),:1]"
      ],
      "execution_count": 108,
      "outputs": []
    },
    {
      "cell_type": "code",
      "metadata": {
        "id": "MeBvWwr6XeAz"
      },
      "source": [
        "def create_dataset(dataset, time_step=1):\n",
        "\tdataX, dataY = [], []\n",
        "\tfor i in range(len(dataset)-time_step-1):\n",
        "\t\tinput = dataset[i:(i+time_step), 0]   ###i=0, 0,1,2,3-----99   100 \n",
        "\t\tdataX.append(input)\n",
        "\t\tdataY.append(dataset[i + time_step, 0])\n",
        "\treturn np.array(dataX), np.array(dataY)"
      ],
      "execution_count": 109,
      "outputs": []
    },
    {
      "cell_type": "code",
      "metadata": {
        "id": "g02zzLR4abWm"
      },
      "source": [
        "time_step = 100\n",
        "X_train, y_train = create_dataset(train_data, time_step)\n",
        "X_test, y_test = create_dataset(test_data, time_step)"
      ],
      "execution_count": 110,
      "outputs": []
    },
    {
      "cell_type": "code",
      "metadata": {
        "id": "qIGx4pHZcgcE",
        "outputId": "4883e509-1f13-4bc3-c514-a1ca2eb0bf5a",
        "colab": {
          "base_uri": "https://localhost:8080/"
        }
      },
      "source": [
        "X_train.shape, y_train.shape"
      ],
      "execution_count": 111,
      "outputs": [
        {
          "output_type": "execute_result",
          "data": {
            "text/plain": [
              "((716, 100), (716,))"
            ]
          },
          "metadata": {
            "tags": []
          },
          "execution_count": 111
        }
      ]
    },
    {
      "cell_type": "code",
      "metadata": {
        "id": "g2QHV2xnVeFm",
        "outputId": "44828c0a-8139-4ba5-aa7c-d1bf04e9bfb5",
        "colab": {
          "base_uri": "https://localhost:8080/"
        }
      },
      "source": [
        "X_test.shape"
      ],
      "execution_count": 112,
      "outputs": [
        {
          "output_type": "execute_result",
          "data": {
            "text/plain": [
              "(339, 100)"
            ]
          },
          "metadata": {
            "tags": []
          },
          "execution_count": 112
        }
      ]
    },
    {
      "cell_type": "code",
      "metadata": {
        "id": "yEJfE-8EcjDG"
      },
      "source": [
        "# We need to reshape it for the LSTM model to work --> from 2D to 3D\n",
        "X_train =X_train.reshape(X_train.shape[0],X_train.shape[1] , 1)\n",
        "X_test = X_test.reshape(X_test.shape[0],X_test.shape[1] , 1)"
      ],
      "execution_count": 113,
      "outputs": []
    },
    {
      "cell_type": "code",
      "metadata": {
        "id": "EcUG8DTqc1Hy"
      },
      "source": [
        "from tensorflow.keras.models import Sequential \n",
        "from tensorflow.keras.layers import Dense\n",
        "from tensorflow.keras.layers import LSTM"
      ],
      "execution_count": 114,
      "outputs": []
    },
    {
      "cell_type": "code",
      "metadata": {
        "id": "_cKUEu24dGG2"
      },
      "source": [
        "model = Sequential()\n",
        "model.add(LSTM(50, return_sequences=True, input_shape=(100,1)))\n",
        "model.add(LSTM(50, return_sequences=True))\n",
        "# model.add(LSTM(25,return_sequences=True))\n",
        "model.add(LSTM(50))\n",
        "model.add(Dense(1))\n",
        "model.compile(loss='mean_squared_error', optimizer='adam')"
      ],
      "execution_count": 115,
      "outputs": []
    },
    {
      "cell_type": "code",
      "metadata": {
        "id": "_7i9lL_KeOMF",
        "outputId": "1438d6f0-6276-415e-c243-b866fc5c66b2",
        "colab": {
          "base_uri": "https://localhost:8080/"
        }
      },
      "source": [
        "model.summary()"
      ],
      "execution_count": 116,
      "outputs": [
        {
          "output_type": "stream",
          "text": [
            "Model: \"sequential_3\"\n",
            "_________________________________________________________________\n",
            "Layer (type)                 Output Shape              Param #   \n",
            "=================================================================\n",
            "lstm_9 (LSTM)                (None, 100, 50)           10400     \n",
            "_________________________________________________________________\n",
            "lstm_10 (LSTM)               (None, 100, 50)           20200     \n",
            "_________________________________________________________________\n",
            "lstm_11 (LSTM)               (None, 50)                20200     \n",
            "_________________________________________________________________\n",
            "dense_3 (Dense)              (None, 1)                 51        \n",
            "=================================================================\n",
            "Total params: 50,851\n",
            "Trainable params: 50,851\n",
            "Non-trainable params: 0\n",
            "_________________________________________________________________\n"
          ],
          "name": "stdout"
        }
      ]
    },
    {
      "cell_type": "code",
      "metadata": {
        "id": "Gz5tg-7deja-",
        "outputId": "3dca5cac-2aa9-4719-bfcf-a03ef876c0d7",
        "colab": {
          "base_uri": "https://localhost:8080/"
        }
      },
      "source": [
        "model.fit(X_train, y_train, validation_data=(X_test, y_test), epochs = 5, batch_size = 32, verbose = 1)"
      ],
      "execution_count": 117,
      "outputs": [
        {
          "output_type": "stream",
          "text": [
            "Epoch 1/5\n",
            "23/23 [==============================] - 10s 213ms/step - loss: 0.0071 - val_loss: 0.0016\n",
            "Epoch 2/5\n",
            "23/23 [==============================] - 4s 163ms/step - loss: 2.9411e-04 - val_loss: 0.0017\n",
            "Epoch 3/5\n",
            "23/23 [==============================] - 4s 161ms/step - loss: 1.5615e-04 - val_loss: 0.0026\n",
            "Epoch 4/5\n",
            "23/23 [==============================] - 4s 164ms/step - loss: 1.4691e-04 - val_loss: 0.0030\n",
            "Epoch 5/5\n",
            "23/23 [==============================] - 4s 163ms/step - loss: 1.5334e-04 - val_loss: 0.0045\n"
          ],
          "name": "stdout"
        },
        {
          "output_type": "execute_result",
          "data": {
            "text/plain": [
              "<tensorflow.python.keras.callbacks.History at 0x7fa2b7decc50>"
            ]
          },
          "metadata": {
            "tags": []
          },
          "execution_count": 117
        }
      ]
    },
    {
      "cell_type": "code",
      "metadata": {
        "id": "MQwLnTZmezBF",
        "outputId": "768d29e6-f7db-4e92-c120-e576d66a5fae",
        "colab": {
          "base_uri": "https://localhost:8080/",
          "height": 267
        }
      },
      "source": [
        "import tensorflow as tf\n",
        "import numpy\n",
        "train_predict=model.predict(X_train)\n",
        "test_predict=model.predict(X_test)\n",
        "train_predict=scaler.inverse_transform(train_predict)\n",
        "test_predict=scaler.inverse_transform(test_predict)\n",
        "import math\n",
        "from sklearn.metrics import mean_squared_error\n",
        "math.sqrt(mean_squared_error(y_train,train_predict))\n",
        "math.sqrt(mean_squared_error(y_test,test_predict))\n",
        "look_back=100\n",
        "trainPredictPlot = np.empty_like(df1)\n",
        "trainPredictPlot[:, :] = np.nan\n",
        "trainPredictPlot[look_back:len(train_predict)+look_back, :] = train_predict\n",
        "# shift test predictions for plotting\n",
        "testPredictPlot = np.empty_like(df1)\n",
        "testPredictPlot[:, :] = np.nan\n",
        "testPredictPlot[len(train_predict)+(look_back*2)+1:len(df1)-1, :] = test_predict\n",
        "# plot baseline and predictions\n",
        "plt.plot(scaler.inverse_transform(df1))\n",
        "plt.plot(trainPredictPlot)\n",
        "plt.plot(testPredictPlot)\n",
        "plt.plot(df1)\n",
        "plt.show()"
      ],
      "execution_count": 118,
      "outputs": [
        {
          "output_type": "display_data",
          "data": {
            "image/png": "[encoded data removed]",
            "text/plain": [
              "<Figure size 432x288 with 1 Axes>"
            ]
          },
          "metadata": {
            "tags": [],
            "needs_background": "light"
          }
        }
      ]
    },
    {
      "cell_type": "code",
      "metadata": {
        "id": "Zl2A7Mc4Q2cY",
        "outputId": "8821107e-eed2-4efc-e57b-4bb437dc0a9c",
        "colab": {
          "base_uri": "https://localhost:8080/"
        }
      },
      "source": [
        " from numpy import array\n",
        "lst_output=[]\n",
        "n_steps=4184\n",
        "i=0\n",
        "while(i<=30):\n",
        "    if(len(temp_input)>100):\n",
        "        #print(temp_input)\n",
        "        x_input=np.array(temp_input[1:])\n",
        "        print(\"{} day input {}\".format(i,x_input))\n",
        "        x_input=x_input.reshape(1,-1)\n",
        "        x_input = x_input.reshape((1, n_steps, 1))\n",
        "        #print(x_input)\n",
        "        yhat = model.predict(x_input, verbose=0)\n",
        "        print(\"{} day output {}\".format(i,yhat))\n",
        "        temp_input.extend(yhat[0].tolist())\n",
        "        temp_input=temp_input[1:]\n",
        "        #print(temp_input)\n",
        "        lst_output.extend(yhat.tolist())\n",
        "        i=i+1\n",
        "    else:\n",
        "        x_input = x_input.reshape((1, n_steps,1))\n",
        "        yhat = model.predict(x_input, verbose=0)\n",
        "        print(yhat[0])\n",
        "        temp_input.extend(yhat[0].tolist())\n",
        "        print(len(temp_input))\n",
        "        lst_output.extend(yhat.tolist())\n",
        "        i=i+1"
      ],
      "execution_count": 120,
      "outputs": [
        {
          "output_type": "stream",
          "text": [
            "0 day input [7.33474062e-01 1.24654253e-06 1.29626218e-06 ... 1.45550159e-01\n",
            " 0.00000000e+00 8.98940482e-09]\n",
            "WARNING:tensorflow:Model was constructed with shape (None, 100, 1) for input KerasTensor(type_spec=TensorSpec(shape=(None, 100, 1), dtype=tf.float32, name='lstm_9_input'), name='lstm_9_input', description=\"created by layer 'lstm_9_input'\"), but it was called on an input with incompatible shape (None, 4184, 1).\n",
            "0 day output [[0.03048591]]\n",
            "1 day input [1.24654253e-06 1.29626218e-06 1.19877616e-06 ... 0.00000000e+00\n",
            " 8.98940482e-09 3.04859094e-02]\n",
            "1 day output [[0.0308049]]\n",
            "2 day input [1.29626218e-06 1.19877616e-06 1.22523411e-06 ... 8.98940482e-09\n",
            " 3.04859094e-02 3.08049023e-02]\n",
            "2 day output [[0.03110131]]\n",
            "3 day input [1.19877616e-06 1.22523411e-06 7.33474062e-01 ... 3.04859094e-02\n",
            " 3.08049023e-02 3.11013050e-02]\n",
            "3 day output [[0.03138686]]\n",
            "4 day input [1.22523411e-06 7.33474062e-01 0.00000000e+00 ... 3.08049023e-02\n",
            " 3.11013050e-02 3.13868597e-02]\n",
            "4 day output [[0.03167046]]\n",
            "5 day input [7.33474062e-01 0.00000000e+00 8.98940482e-09 ... 3.11013050e-02\n",
            " 3.13868597e-02 3.16704623e-02]\n",
            "5 day output [[0.03195804]]\n",
            "6 day input [0.00000000e+00 8.98940482e-09 1.28287796e-06 ... 3.13868597e-02\n",
            " 3.16704623e-02 3.19580398e-02]\n",
            "6 day output [[0.03225308]]\n",
            "7 day input [8.98940482e-09 1.28287796e-06 1.34975913e-06 ... 3.16704623e-02\n",
            " 3.19580398e-02 3.22530791e-02]\n",
            "7 day output [[0.0325571]]\n",
            "8 day input [1.28287796e-06 1.34975913e-06 1.24952727e-06 ... 3.19580398e-02\n",
            " 3.22530791e-02 3.25571001e-02]\n",
            "8 day output [[0.03287032]]\n",
            "9 day input [1.34975913e-06 1.24952727e-06 1.28341733e-06 ... 3.22530791e-02\n",
            " 3.25571001e-02 3.28703187e-02]\n",
            "9 day output [[0.03319203]]\n",
            "10 day input [1.24952727e-06 1.28341733e-06 7.72393583e-01 ... 3.25571001e-02\n",
            " 3.28703187e-02 3.31920274e-02]\n",
            "10 day output [[0.03352107]]\n",
            "11 day input [1.28341733e-06 7.72393583e-01 1.26705188e-06 ... 3.28703187e-02\n",
            " 3.31920274e-02 3.35210748e-02]\n",
            "11 day output [[0.0338561]]\n",
            "12 day input [7.72393583e-01 1.26705188e-06 1.33310798e-06 ... 3.31920274e-02\n",
            " 3.35210748e-02 3.38560976e-02]\n",
            "12 day output [[0.0341957]]\n",
            "13 day input [1.26705188e-06 1.33310798e-06 1.23411262e-06 ... 3.35210748e-02\n",
            " 3.38560976e-02 3.41956951e-02]\n",
            "13 day output [[0.03453858]]\n",
            "14 day input [1.33310798e-06 1.23411262e-06 1.26758459e-06 ... 3.38560976e-02\n",
            " 3.41956951e-02 3.45385820e-02]\n",
            "14 day output [[0.03488366]]\n",
            "15 day input [1.23411262e-06 1.26758459e-06 7.72393583e-01 ... 3.41956951e-02\n",
            " 3.45385820e-02 3.48836556e-02]\n",
            "15 day output [[0.03522996]]\n",
            "16 day input [1.26758459e-06 7.72393583e-01 0.00000000e+00 ... 3.45385820e-02\n",
            " 3.48836556e-02 3.52299586e-02]\n",
            "16 day output [[0.0355768]]\n",
            "17 day input [7.72393583e-01 0.00000000e+00 8.98940482e-09 ... 3.48836556e-02\n",
            " 3.52299586e-02 3.55767980e-02]\n",
            "17 day output [[0.03592359]]\n",
            "18 day input [0.00000000e+00 8.98940482e-09 1.23469475e-06 ... 3.52299586e-02\n",
            " 3.55767980e-02 3.59235890e-02]\n",
            "18 day output [[0.03626991]]\n",
            "19 day input [8.98940482e-09 1.23469475e-06 1.32234145e-06 ... 3.55767980e-02\n",
            " 3.59235890e-02 3.62699144e-02]\n",
            "19 day output [[0.03661552]]\n",
            "20 day input [1.23469475e-06 1.32234145e-06 1.22130054e-06 ... 3.59235890e-02\n",
            " 3.62699144e-02 3.66155244e-02]\n",
            "20 day output [[0.0369602]]\n",
            "21 day input [1.32234145e-06 1.22130054e-06 1.31245310e-06 ... 3.62699144e-02\n",
            " 3.66155244e-02 3.69602032e-02]\n",
            "21 day output [[0.03730388]]\n",
            "22 day input [1.22130054e-06 1.31245310e-06 7.62896762e-01 ... 3.66155244e-02\n",
            " 3.69602032e-02 3.73038761e-02]\n",
            "22 day output [[0.03764647]]\n",
            "23 day input [1.31245310e-06 7.62896762e-01 1.21946308e-06 ... 3.69602032e-02\n",
            " 3.73038761e-02 3.76464687e-02]\n",
            "23 day output [[0.03798796]]\n",
            "24 day input [7.62896762e-01 1.21946308e-06 1.30602853e-06 ... 3.73038761e-02\n",
            " 3.76464687e-02 3.79879586e-02]\n",
            "24 day output [[0.03832835]]\n",
            "25 day input [1.21946308e-06 1.30602853e-06 1.20623410e-06 ... 3.76464687e-02\n",
            " 3.79879586e-02 3.83283496e-02]\n",
            "25 day output [[0.03866766]]\n",
            "26 day input [1.30602853e-06 1.20623410e-06 1.29626218e-06 ... 3.79879586e-02\n",
            " 3.83283496e-02 3.86676565e-02]\n",
            "26 day output [[0.03900592]]\n",
            "27 day input [1.20623410e-06 1.29626218e-06 7.62896762e-01 ... 3.83283496e-02\n",
            " 3.86676565e-02 3.90059240e-02]\n",
            "27 day output [[0.03934315]]\n",
            "28 day input [1.29626218e-06 7.62896762e-01 0.00000000e+00 ... 3.86676565e-02\n",
            " 3.90059240e-02 3.93431522e-02]\n",
            "28 day output [[0.03967936]]\n",
            "29 day input [7.62896762e-01 0.00000000e+00 8.98940482e-09 ... 3.90059240e-02\n",
            " 3.93431522e-02 3.96793596e-02]\n",
            "29 day output [[0.04001459]]\n",
            "30 day input [0.00000000e+00 8.98940482e-09 1.22237927e-06 ... 3.93431522e-02\n",
            " 3.96793596e-02 4.00145948e-02]\n",
            "30 day output [[0.04034884]]\n"
          ],
          "name": "stdout"
        }
      ]
    },
    {
      "cell_type": "code",
      "metadata": {
        "id": "qslowoVxPTy5",
        "outputId": "90d9a146-62e7-4b58-fab6-da62608fa766",
        "colab": {
          "base_uri": "https://localhost:8080/",
          "height": 285
        }
      },
      "source": [
        "x_input=test_data[341:].reshape(1,-1)\n",
        "x_input.shape\n",
        "temp_input=list(x_input)\n",
        "temp_input=temp_input[0].tolist()\n",
        "day_new=np.arange(1,1258)\n",
        "day_pred=np.arange(1,32)\n",
        "import matplotlib.pyplot as plt\n",
        "plt.plot(day_new,scaler.inverse_transform(df1))\n"
      ],
      "execution_count": 129,
      "outputs": [
        {
          "output_type": "execute_result",
          "data": {
            "text/plain": [
              "[<matplotlib.lines.Line2D at 0x7fa2b4894e10>]"
            ]
          },
          "metadata": {
            "tags": []
          },
          "execution_count": 129
        },
        {
          "output_type": "display_data",
          "data": {
            "image/png": "[encoded data removed]",
            "text/plain": [
              "<Figure size 432x288 with 1 Axes>"
            ]
          },
          "metadata": {
            "tags": [],
            "needs_background": "light"
          }
        }
      ]
    },
    {
      "cell_type": "code",
      "metadata": {
        "id": "s10Vw3BOP4gF",
        "outputId": "f0864ad7-9fe4-4a83-cc5d-6f34f65abc6d",
        "colab": {
          "base_uri": "https://localhost:8080/",
          "height": 265
        }
      },
      "source": [
        "plt.plot(day_pred,scaler.inverse_transform(lst_output))\n",
        "df3=df1.tolist()\n",
        "df3.extend(lst_output)"
      ],
      "execution_count": 130,
      "outputs": [
        {
          "output_type": "display_data",
          "data": {
            "image/png": "[encoded data removed]",
            "text/plain": [
              "<Figure size 432x288 with 1 Axes>"
            ]
          },
          "metadata": {
            "tags": [],
            "needs_background": "light"
          }
        }
      ]
    },
    {
      "cell_type": "code",
      "metadata": {
        "id": "pDdOBFz7Y_ar",
        "outputId": "6911bf08-5e4b-4686-9052-dd5415d1185a",
        "colab": {
          "base_uri": "https://localhost:8080/",
          "height": 284
        }
      },
      "source": [
        "plt.plot(df3[1200:])\n",
        "df3=scaler.inverse_transform(df3).tolist()\n",
        "plt.plot(df3)"
      ],
      "execution_count": 131,
      "outputs": [
        {
          "output_type": "execute_result",
          "data": {
            "text/plain": [
              "[<matplotlib.lines.Line2D at 0x7fa2b3f69dd0>]"
            ]
          },
          "metadata": {
            "tags": []
          },
          "execution_count": 131
        },
        {
          "output_type": "display_data",
          "data": {
            "image/png": "[encoded data removed]",
            "text/plain": [
              "<Figure size 432x288 with 1 Axes>"
            ]
          },
          "metadata": {
            "tags": [],
            "needs_background": "light"
          }
        }
      ]
    },
    {
      "cell_type": "code",
      "metadata": {
        "id": "I7P4QSuuZEpJ"
      },
      "source": [
        ""
      ],
      "execution_count": null,
      "outputs": []
    }
  ]
}